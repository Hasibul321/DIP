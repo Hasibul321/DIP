{
 "cells": [
  {
   "cell_type": "markdown",
   "metadata": {},
   "source": [
    "#### Task 5(b): Take a binary image & a structuring element, perform Opening & Closing morphological operations"
   ]
  },
  {
   "cell_type": "markdown",
   "metadata": {},
   "source": [
    "### Importing the Libraries"
   ]
  },
  {
   "cell_type": "code",
   "execution_count": null,
   "metadata": {},
   "outputs": [],
   "source": [
    "import cv2\n",
    "import numpy as np\n",
    "import matplotlib.pyplot as plt"
   ]
  },
  {
   "cell_type": "markdown",
   "metadata": {},
   "source": [
    "### Function for Erosion"
   ]
  },
  {
   "cell_type": "code",
   "execution_count": null,
   "metadata": {},
   "outputs": [],
   "source": [
    "def erosion(image, structuring_element):\n",
    "    eroded_image = image.copy()\n",
    "    structuring_element = structuring_element * 255\n",
    "    offset = structuring_element.shape[0] // 2\n",
    "    height, width = image.shape\n",
    "\n",
    "    for r in range(height):\n",
    "        for c in range(width):\n",
    "            fit = True\n",
    "            for x in range(-offset, offset + 1):\n",
    "                for y in range(-offset, offset + 1):\n",
    "                    if (r + x >= 0 and r + x < height and c + y >= 0 and c + y < width):\n",
    "                        sr, sc = x + offset, y + offset\n",
    "                        if (structuring_element[sr, sc] and image[r + x, c + y] != structuring_element[sr, sc]):\n",
    "                            fit = False\n",
    "                    elif (structuring_element[x + offset, y + offset]):\n",
    "                        fit = False\n",
    "            eroded_image[r, c] = 255 if fit else 0\n",
    "\n",
    "    return np.uint8(eroded_image)"
   ]
  },
  {
   "cell_type": "markdown",
   "metadata": {},
   "source": [
    "### Function for Dilation"
   ]
  },
  {
   "cell_type": "code",
   "execution_count": null,
   "metadata": {},
   "outputs": [],
   "source": [
    "def dilation(image, structuring_element):\n",
    "    dilated_image = image.copy()\n",
    "    structuring_element = structuring_element * 255\n",
    "    offset = structuring_element.shape[0] // 2\n",
    "    height, width = image.shape\n",
    "\n",
    "    for r in range(height):\n",
    "        for c in range(width):\n",
    "            hit = False\n",
    "            for x in range(-offset, offset + 1):\n",
    "                for y in range(-offset, offset + 1):\n",
    "                    if (r + x >= 0 and r + x < height and c + y >= 0 and c + y < width):\n",
    "                        sr, sc = x + offset, y + offset\n",
    "                        if (structuring_element[sr, sc] and image[r + x, c + y] == structuring_element[sr, sc]):\n",
    "                            hit = True\n",
    "            dilated_image[r, c] = 255 if hit else 0\n",
    "\n",
    "    return np.uint8(dilated_image)"
   ]
  },
  {
   "cell_type": "markdown",
   "metadata": {},
   "source": [
    "### Function for Opening"
   ]
  },
  {
   "cell_type": "code",
   "execution_count": null,
   "metadata": {},
   "outputs": [],
   "source": [
    "def opening(image, structuring_element):\n",
    "    return dilation(erosion(image, structuring_element), structuring_element)"
   ]
  },
  {
   "cell_type": "markdown",
   "metadata": {},
   "source": [
    "### Function for Closing"
   ]
  },
  {
   "cell_type": "code",
   "execution_count": null,
   "metadata": {},
   "outputs": [],
   "source": [
    "def closing(image, structuring_element):\n",
    "    return erosion(dilation(image, structuring_element), structuring_element)"
   ]
  },
  {
   "cell_type": "markdown",
   "metadata": {},
   "source": [
    "### Creating Structuring Element for Erosion & Dilation"
   ]
  },
  {
   "cell_type": "code",
   "execution_count": null,
   "metadata": {},
   "outputs": [],
   "source": [
    "structuring_element_size = 3\n",
    "structuring_element = np.ones((structuring_element_size, structuring_element_size))"
   ]
  },
  {
   "cell_type": "markdown",
   "metadata": {},
   "source": [
    "### Loading the Original Image"
   ]
  },
  {
   "cell_type": "code",
   "execution_count": null,
   "metadata": {},
   "outputs": [],
   "source": [
    "noisy_fingerprint = cv2.imread(\"./Noisy Fingerprint 315x238.tif\", 0)\n",
    "plt.imshow(noisy_fingerprint, cmap = \"gray\")\n",
    "plt.title(\"Noisy Fingerprint Image\")\n",
    "plt.show()"
   ]
  },
  {
   "cell_type": "markdown",
   "metadata": {},
   "source": [
    "### Applying Opening"
   ]
  },
  {
   "cell_type": "code",
   "execution_count": null,
   "metadata": {},
   "outputs": [],
   "source": [
    "fingerprint_after_opening = opening(noisy_fingerprint, structuring_element)\n",
    "plt.imshow(fingerprint_after_opening, cmap = \"gray\")\n",
    "plt.title(\"Fingerprint after Opening\")\n",
    "plt.show()"
   ]
  },
  {
   "cell_type": "markdown",
   "metadata": {},
   "source": [
    "### Applying Closing"
   ]
  },
  {
   "cell_type": "code",
   "execution_count": null,
   "metadata": {},
   "outputs": [],
   "source": [
    "fingerprint_after_closing = closing(fingerprint_after_opening, structuring_element)\n",
    "plt.imshow(fingerprint_after_closing, cmap = \"gray\")\n",
    "plt.title(\"Fingerprint after Closing\")\n",
    "plt.show()"
   ]
  }
 ],
 "metadata": {
  "kernelspec": {
   "display_name": "Python 3",
   "language": "python",
   "name": "python3"
  },
  "language_info": {
   "codemirror_mode": {
    "name": "ipython",
    "version": 3
   },
   "file_extension": ".py",
   "mimetype": "text/x-python",
   "name": "python",
   "nbconvert_exporter": "python",
   "pygments_lexer": "ipython3",
   "version": "3.9.13"
  }
 },
 "nbformat": 4,
 "nbformat_minor": 2
}
