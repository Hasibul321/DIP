{
 "cells": [
  {
   "cell_type": "markdown",
   "metadata": {},
   "source": [
    "#### Task 2(c): Take a grayscale image of size 512x512, find the difference image between the original & the image obtained by last three MSBs"
   ]
  },
  {
   "cell_type": "markdown",
   "metadata": {},
   "source": [
    "### Importing the Libraries"
   ]
  },
  {
   "cell_type": "code",
   "execution_count": null,
   "metadata": {},
   "outputs": [],
   "source": [
    "import cv2\n",
    "import numpy as np\n",
    "import matplotlib.pyplot as plt"
   ]
  },
  {
   "cell_type": "markdown",
   "metadata": {},
   "source": [
    "### Loading the Original Image"
   ]
  },
  {
   "cell_type": "code",
   "execution_count": null,
   "metadata": {},
   "outputs": [],
   "source": [
    "dollar_image = cv2.imread(\"./Dollar 1192x500.tif\", cv2.IMREAD_GRAYSCALE)\n",
    "plt.imshow(cv2.cvtColor(dollar_image, cv2.COLOR_BGR2RGB))\n",
    "plt.title(\"The 100 Dollar Image\")\n",
    "plt.show()"
   ]
  },
  {
   "cell_type": "markdown",
   "metadata": {},
   "source": [
    "### Image obtained by Last 3-Bits (MSBs)"
   ]
  },
  {
   "cell_type": "code",
   "execution_count": null,
   "metadata": {},
   "outputs": [],
   "source": [
    "mask = \"11100000\"\n",
    "three_bit_image = dollar_image & int(mask, 2)\n",
    "plt.imshow(cv2.cvtColor(three_bit_image, cv2.COLOR_BGR2RGB))\n",
    "plt.title(\"Image using Last 3-Bits\")\n",
    "plt.show()"
   ]
  },
  {
   "cell_type": "markdown",
   "metadata": {},
   "source": [
    "### Finding the Difference Image"
   ]
  },
  {
   "cell_type": "code",
   "execution_count": null,
   "metadata": {},
   "outputs": [],
   "source": [
    "difference_image = cv2.absdiff(np.array(dollar_image), np.array(three_bit_image))\n",
    "plt.imshow(cv2.cvtColor(difference_image, cv2.COLOR_BGR2RGB))\n",
    "plt.title(\"The Difference Image\")\n",
    "plt.show()"
   ]
  }
 ],
 "metadata": {
  "kernelspec": {
   "display_name": "Python 3",
   "language": "python",
   "name": "python3"
  },
  "language_info": {
   "codemirror_mode": {
    "name": "ipython",
    "version": 3
   },
   "file_extension": ".py",
   "mimetype": "text/x-python",
   "name": "python",
   "nbconvert_exporter": "python",
   "pygments_lexer": "ipython3",
   "version": "3.9.13"
  }
 },
 "nbformat": 4,
 "nbformat_minor": 2
}
