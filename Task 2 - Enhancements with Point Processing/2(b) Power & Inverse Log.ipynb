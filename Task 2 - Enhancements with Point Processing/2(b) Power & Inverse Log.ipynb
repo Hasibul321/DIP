{
 "cells": [
  {
   "cell_type": "markdown",
   "metadata": {},
   "source": [
    "#### Task 2(b): Take a grayscale image of size 512x512, differentiate the results of power law & inverse logarithmic transformation"
   ]
  },
  {
   "cell_type": "markdown",
   "metadata": {},
   "source": [
    "### Importing the Libraries"
   ]
  },
  {
   "cell_type": "code",
   "execution_count": null,
   "metadata": {},
   "outputs": [],
   "source": [
    "import cv2\n",
    "import numpy as np\n",
    "import matplotlib.pyplot as plt"
   ]
  },
  {
   "cell_type": "markdown",
   "metadata": {},
   "source": [
    "### Function for Power Law Transformation"
   ]
  },
  {
   "cell_type": "code",
   "execution_count": null,
   "metadata": {},
   "outputs": [],
   "source": [
    "def power_law_transformation(image, gamma):\n",
    "    transformed_image = image.copy()\n",
    "    height, width = image.shape\n",
    "\n",
    "    for r in range(height):\n",
    "        for c in range(width):\n",
    "            pixel = float(image[r, c]) / 255.0\n",
    "            transformed_image[r, c] = (pixel ** gamma) * 255\n",
    "    \n",
    "    return np.uint8(transformed_image)"
   ]
  },
  {
   "cell_type": "markdown",
   "metadata": {},
   "source": [
    "### Function for Inverse Logarithmic Transformation"
   ]
  },
  {
   "cell_type": "code",
   "execution_count": null,
   "metadata": {},
   "outputs": [],
   "source": [
    "def inverse_log_transformation(image):\n",
    "    c = 255 / np.log(256)\n",
    "    transformed_image = np.exp(image / c) - 1\n",
    "    \n",
    "    return np.uint8(transformed_image)"
   ]
  },
  {
   "cell_type": "markdown",
   "metadata": {},
   "source": [
    "### Applying Power Law Transformation (γ < 0)"
   ]
  },
  {
   "cell_type": "code",
   "execution_count": null,
   "metadata": {},
   "outputs": [],
   "source": [
    "spine_image = cv2.imread(\"./Fractured Spine 746x976.tif\", cv2.IMREAD_GRAYSCALE)\n",
    "gammas, subplot_number = [1, 0.6, 0.4, 0.3], 1\n",
    "plt.figure(figsize = (14, 17))\n",
    "\n",
    "for gamma in (gammas):\n",
    "    transformed_image = power_law_transformation(spine_image, gamma)\n",
    "    plt.subplot(2, 2, subplot_number)\n",
    "    plt.imshow(cv2.cvtColor(transformed_image, cv2.COLOR_BGR2RGB))\n",
    "    plt.title(f\"Power Law Transformation with γ = {gamma}\")\n",
    "    subplot_number += 1\n",
    "\n",
    "plt.show()"
   ]
  },
  {
   "cell_type": "markdown",
   "metadata": {},
   "source": [
    "### Power Law Transformation (γ > 0)"
   ]
  },
  {
   "cell_type": "code",
   "execution_count": null,
   "metadata": {},
   "outputs": [],
   "source": [
    "arial_image = cv2.imread(\"./Aerial Image 765x769.tif\", 0)\n",
    "gammas = [1, 3, 4, 5]\n",
    "subplot_number = 1\n",
    "plt.figure(figsize = (15, 15))\n",
    "\n",
    "for gamma in (gammas):\n",
    "    transformed_image = power_law_transformation(arial_image, gamma)\n",
    "    plt.subplot(2, 2, subplot_number)\n",
    "    plt.imshow(cv2.cvtColor(transformed_image, cv2.COLOR_BGR2RGB))\n",
    "    plt.title(f\"Power Law Transformation with γ = {gamma}\")\n",
    "    subplot_number += 1\n",
    "\n",
    "plt.show()"
   ]
  },
  {
   "cell_type": "markdown",
   "metadata": {},
   "source": [
    "### Inverse Log Transformation"
   ]
  },
  {
   "cell_type": "code",
   "execution_count": null,
   "metadata": {},
   "outputs": [],
   "source": [
    "transformed_image = inverse_log_transformation(arial_image)\n",
    "plt.imshow(cv2.cvtColor(transformed_image, cv2.COLOR_BGR2RGB))\n",
    "plt.title(\"Inverse Log Transformed Image\")\n",
    "plt.show()"
   ]
  }
 ],
 "metadata": {
  "kernelspec": {
   "display_name": "Python 3",
   "language": "python",
   "name": "python3"
  },
  "language_info": {
   "codemirror_mode": {
    "name": "ipython",
    "version": 3
   },
   "file_extension": ".py",
   "mimetype": "text/x-python",
   "name": "python",
   "nbconvert_exporter": "python",
   "pygments_lexer": "ipython3",
   "version": "3.9.13"
  }
 },
 "nbformat": 4,
 "nbformat_minor": 2
}
