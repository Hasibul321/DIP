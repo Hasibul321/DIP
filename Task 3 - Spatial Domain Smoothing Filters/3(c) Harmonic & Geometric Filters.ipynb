{
 "cells": [
  {
   "cell_type": "markdown",
   "metadata": {},
   "source": [
    "#### Task 3(c): Take a grayscale image of size 512x512, apply harmonic & geometric mean filter on the noisy image & compare their performance with PSNR"
   ]
  },
  {
   "cell_type": "markdown",
   "metadata": {},
   "source": [
    "### Importing the Libraries"
   ]
  },
  {
   "cell_type": "code",
   "execution_count": null,
   "metadata": {},
   "outputs": [],
   "source": [
    "import cv2\n",
    "import numpy as np\n",
    "import matplotlib.pyplot as plt"
   ]
  },
  {
   "cell_type": "markdown",
   "metadata": {},
   "source": [
    "### Function for Harmonic Mean Filter\n",
    "##### The Harmonic Mean Filter works well for salt noise, but fails for pepper noise"
   ]
  },
  {
   "cell_type": "code",
   "execution_count": null,
   "metadata": {},
   "outputs": [],
   "source": [
    "def apply_harmonic_mean_filter(image, mask_size):\n",
    "    filtered_image = image.copy()\n",
    "    height, width = filtered_image.shape \n",
    "    offset, number_of_pixel = mask_size // 2, mask_size * mask_size\n",
    "\n",
    "    for r in range(height):\n",
    "        for c in range(width):\n",
    "            pixel = 0\n",
    "            for x in range(-offset, offset + 1):\n",
    "                for y in range(-offset, offset + 1):\n",
    "                    if (r + x >= 0 and r + x < height and c + y >= 0 and c + y < width):\n",
    "                        pixel += float(1 / (image[r + x, c + y] + 1e-4))\n",
    "            pixel = number_of_pixel / pixel\n",
    "            filtered_image[r, c] = 255 if pixel > 255 else pixel\n",
    "\n",
    "    return np.uint8(filtered_image)"
   ]
  },
  {
   "cell_type": "markdown",
   "metadata": {},
   "source": [
    "### Function for Geometric Mean Filter"
   ]
  },
  {
   "cell_type": "code",
   "execution_count": null,
   "metadata": {},
   "outputs": [],
   "source": [
    "def apply_geometric_mean_filter(image, mask_size):\n",
    "    filtered_image = image.copy()\n",
    "    height, width = filtered_image.shape\n",
    "    offset = mask_size // 2\n",
    "\n",
    "    for r in range(height):\n",
    "        for c in range(width):\n",
    "            pixel = 1\n",
    "            count = 0\n",
    "            for x in range(-offset, offset + 1):\n",
    "                for y in range(-offset, offset + 1):\n",
    "                    if (r + x >= 0 and r + x < height and c + y >= 0 and c + y < width):\n",
    "                        if (image[r + x, c + y]):\n",
    "                            count += 1\n",
    "                            pixel = pixel * int(image[r + x, c + y])\n",
    "            count = 1 if count == 0 else count\n",
    "            filtered_image[r, c] = pixel ** (1 / count)\n",
    "\n",
    "    return np.uint8(filtered_image)"
   ]
  },
  {
   "cell_type": "markdown",
   "metadata": {},
   "source": [
    "### Function for adding Salt & Pepper Noise"
   ]
  },
  {
   "cell_type": "code",
   "execution_count": null,
   "metadata": {},
   "outputs": [],
   "source": [
    "def add_salt_pepper_noise(image, percent):\n",
    "    noisy_image = image.copy()\n",
    "    noise_amount = (image.shape[0] * image.shape[1]) * (percent / 100)\n",
    "\n",
    "    for k in range(int(noise_amount)):\n",
    "        index = []\n",
    "        for x in range(1, 5):\n",
    "            index.append(np.random.randint(0, image.shape[0]))\n",
    "        noisy_image[index[0], index[1]], noisy_image[index[2], index[3]] = 0, 255\n",
    "\n",
    "    return noisy_image"
   ]
  },
  {
   "cell_type": "markdown",
   "metadata": {},
   "source": [
    "### Function for calculating PSNR (Peak Signal to Noise Ratio)\n",
    "##### Function: psnr = cv2.PSNR(image1, image2)"
   ]
  },
  {
   "cell_type": "code",
   "execution_count": null,
   "metadata": {},
   "outputs": [],
   "source": [
    "def compute_psnr(image1, image2):\n",
    "    image1, image2 = np.float64(image1), np.float64(image2)\n",
    "    mse = np.mean((image1 - image2) ** 2) \n",
    "    if mse == 0:\n",
    "        return float('inf')\n",
    "    psnr = 20 * np.log10(255.0) - 10 * np.log10(mse)\n",
    "    \n",
    "    return round(psnr, 2)"
   ]
  },
  {
   "cell_type": "markdown",
   "metadata": {},
   "source": [
    "### Loading the Image"
   ]
  },
  {
   "cell_type": "code",
   "execution_count": null,
   "metadata": {},
   "outputs": [],
   "source": [
    "character_image = cv2.imread(\"./Characters Test Pattern 688x688.tif\", 0)\n",
    "plt.imshow(character_image, cmap = \"gray\")\n",
    "plt.title(\"Original Image\")\n",
    "plt.show()"
   ]
  },
  {
   "cell_type": "markdown",
   "metadata": {},
   "source": [
    "### Adding Salt & Pepper Noise to the Image"
   ]
  },
  {
   "cell_type": "code",
   "execution_count": null,
   "metadata": {},
   "outputs": [],
   "source": [
    "noisy_character_image = add_salt_pepper_noise(character_image, 1.5)\n",
    "plt.imshow(noisy_character_image, cmap = \"gray\")\n",
    "plt.title(\"The Noisy Image\")\n",
    "plt.show()\n",
    "psnr = compute_psnr(character_image, noisy_character_image)\n",
    "print(f\"PSNR = {psnr}\")"
   ]
  },
  {
   "cell_type": "markdown",
   "metadata": {},
   "source": [
    "### Applying Harmonic Mean Filter"
   ]
  },
  {
   "cell_type": "code",
   "execution_count": null,
   "metadata": {},
   "outputs": [],
   "source": [
    "mask_size = 3\n",
    "harmonic_filtered_image = apply_harmonic_mean_filter(noisy_character_image, mask_size)\n",
    "plt.imshow(cv2.cvtColor(harmonic_filtered_image, cv2.COLOR_BGR2RGB))\n",
    "plt.title(\"After applying Harmonic Mean Filter\")\n",
    "plt.show()\n",
    "print(f\"PSNR = {compute_psnr(noisy_character_image, harmonic_filtered_image)}\")"
   ]
  },
  {
   "cell_type": "markdown",
   "metadata": {},
   "source": [
    "### Applying Geometric Mean Filter"
   ]
  },
  {
   "cell_type": "code",
   "execution_count": null,
   "metadata": {},
   "outputs": [],
   "source": [
    "geometric_filtered_image = apply_geometric_mean_filter(noisy_character_image, mask_size)\n",
    "plt.imshow(cv2.cvtColor(geometric_filtered_image, cv2.COLOR_BGR2RGB))\n",
    "plt.title(\"After applying Geometric Mean Filter\")\n",
    "plt.show()\n",
    "print(f\"PSNR = {compute_psnr(noisy_character_image, geometric_filtered_image)}\")"
   ]
  }
 ],
 "metadata": {
  "kernelspec": {
   "display_name": "Python 3",
   "language": "python",
   "name": "python3"
  },
  "language_info": {
   "codemirror_mode": {
    "name": "ipython",
    "version": 3
   },
   "file_extension": ".py",
   "mimetype": "text/x-python",
   "name": "python",
   "nbconvert_exporter": "python",
   "pygments_lexer": "ipython3",
   "version": "3.9.13"
  }
 },
 "nbformat": 4,
 "nbformat_minor": 2
}
