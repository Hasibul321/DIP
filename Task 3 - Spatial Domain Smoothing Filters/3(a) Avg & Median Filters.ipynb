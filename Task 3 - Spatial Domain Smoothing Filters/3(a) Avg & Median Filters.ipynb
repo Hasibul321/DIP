{
 "cells": [
  {
   "cell_type": "markdown",
   "metadata": {},
   "source": [
    "#### Task 3(a): Take grayscale image of size 512x512, apply average & median spatial filters with 5x5 mask & observe their performance for noise suppression in term of PSNR"
   ]
  },
  {
   "cell_type": "markdown",
   "metadata": {},
   "source": [
    "### Importing the Libraries"
   ]
  },
  {
   "cell_type": "code",
   "execution_count": null,
   "metadata": {},
   "outputs": [],
   "source": [
    "import cv2\n",
    "import numpy as np\n",
    "import matplotlib.pyplot as plt"
   ]
  },
  {
   "cell_type": "markdown",
   "metadata": {},
   "source": [
    "### Function for Average Spatial Filter\n",
    "##### Function: output_image = cv2.blur(input_image, (kernel_size, kernel_size))"
   ]
  },
  {
   "cell_type": "code",
   "execution_count": null,
   "metadata": {},
   "outputs": [],
   "source": [
    "def average_filter(image, mask_size):\n",
    "    filtered_image = image.copy()\n",
    "    height, width = filtered_image.shape\n",
    "    offset, weight = mask_size // 2, mask_size * mask_size\n",
    "\n",
    "    for r in range(height):\n",
    "        for c in range(width):\n",
    "            filtered_image[r, c] = 0;\n",
    "            for x in range(-offset, offset + 1):\n",
    "                for y in range(-offset, offset + 1):\n",
    "                    if (r + x >= 0 and r + x < height and c + y >= 0 and c + y < width):\n",
    "                        filtered_image[r, c] += (image[r + x, c + y] / weight)\n",
    "    \n",
    "    return np.uint8(filtered_image)"
   ]
  },
  {
   "cell_type": "markdown",
   "metadata": {},
   "source": [
    "### Function for Median Spatial Filter\n",
    "##### Function: output_image = cv2.medianBlur(input_image, kernel_size)"
   ]
  },
  {
   "cell_type": "code",
   "execution_count": null,
   "metadata": {},
   "outputs": [],
   "source": [
    "def median_filter(image, mask_size):\n",
    "    filtered_image = image.copy()\n",
    "    height, width = filtered_image.shape\n",
    "    offset = mask_size // 2\n",
    "\n",
    "    for r in range(height):\n",
    "        for c in range(width):\n",
    "            pixels = []\n",
    "            for x in range(-offset, offset + 1):\n",
    "                for y in range(-offset, offset + 1):\n",
    "                    if (r + x >= 0 and r + x < height and c + y >= 0 and c + y < width):\n",
    "                        pixels.append(image[r + x, c + y])\n",
    "            filtered_image[r, c] = sorted(pixels)[len(pixels) // 2]\n",
    "    \n",
    "    return np.uint8(filtered_image)"
   ]
  },
  {
   "cell_type": "markdown",
   "metadata": {},
   "source": [
    "### Function for adding Salt & Pepper Noise"
   ]
  },
  {
   "cell_type": "code",
   "execution_count": null,
   "metadata": {},
   "outputs": [],
   "source": [
    "def add_salt_pepper_noise(image, percent):\n",
    "    noisy_image = image.copy()\n",
    "    noise_amount = (image.shape[0] * image.shape[1]) * (percent / 100)\n",
    "\n",
    "    for k in range(int(noise_amount)):\n",
    "        index = []\n",
    "        for x in range(1, 5):\n",
    "            index.append(np.random.randint(0, image.shape[0]))\n",
    "        noisy_image[index[0], index[1]], noisy_image[index[2], index[3]] = 0, 255\n",
    "\n",
    "    return noisy_image"
   ]
  },
  {
   "cell_type": "markdown",
   "metadata": {},
   "source": [
    "### Function for calculating PSNR (Peak Signal to Noise Ratio)\n",
    "##### Function: psnr = cv2.PSNR(image1, image2)"
   ]
  },
  {
   "cell_type": "code",
   "execution_count": null,
   "metadata": {},
   "outputs": [],
   "source": [
    "def compute_psnr(image1, image2):\n",
    "    image1, image2 = np.float64(image1), np.float64(image2)\n",
    "    mse = np.mean((image1 - image2) ** 2) \n",
    "    if mse == 0:\n",
    "        return float('inf')\n",
    "    psnr = 20 * np.log10(255.0) - 10 * np.log10(mse)\n",
    "    \n",
    "    return round(psnr, 2)"
   ]
  },
  {
   "cell_type": "markdown",
   "metadata": {},
   "source": [
    "### Loading the Image"
   ]
  },
  {
   "cell_type": "code",
   "execution_count": null,
   "metadata": {},
   "outputs": [],
   "source": [
    "character_image = cv2.imread(\"./Characters Test Pattern 688x688.tif\", 0)\n",
    "plt.imshow(character_image, cmap = \"gray\")\n",
    "plt.title(\"Original Image\")\n",
    "plt.show()"
   ]
  },
  {
   "cell_type": "markdown",
   "metadata": {},
   "source": [
    "### Adding Salt & Pepper Noise to the Image"
   ]
  },
  {
   "cell_type": "code",
   "execution_count": null,
   "metadata": {},
   "outputs": [],
   "source": [
    "noisy_character_image = add_salt_pepper_noise(character_image, 15)\n",
    "plt.imshow(noisy_character_image, cmap = \"gray\")\n",
    "plt.title(\"The Noisy Image\")\n",
    "plt.show()\n",
    "psnr = compute_psnr(character_image, noisy_character_image)\n",
    "print(f\"PSNR = {psnr}\")"
   ]
  },
  {
   "cell_type": "markdown",
   "metadata": {},
   "source": [
    "### Applying Average Spatial Filter"
   ]
  },
  {
   "cell_type": "code",
   "execution_count": null,
   "metadata": {},
   "outputs": [],
   "source": [
    "mask_size = 3\n",
    "avg_character_image = average_filter(noisy_character_image, mask_size)\n",
    "plt.imshow(avg_character_image, cmap = \"gray\")\n",
    "plt.title(\"Average Filtered Image\")\n",
    "plt.show()\n",
    "psnr = compute_psnr(avg_character_image, character_image)\n",
    "print(f\"PSNR = {psnr}\")"
   ]
  },
  {
   "cell_type": "markdown",
   "metadata": {},
   "source": [
    "### Applying Median Spatial Filter"
   ]
  },
  {
   "cell_type": "code",
   "execution_count": null,
   "metadata": {},
   "outputs": [],
   "source": [
    "mask_size = 3\n",
    "median_character_image = median_filter(noisy_character_image, mask_size)\n",
    "plt.imshow(avg_character_image, cmap = \"gray\")\n",
    "plt.title(\"Median Filtered Image\")\n",
    "plt.show()\n",
    "psnr = compute_psnr(median_character_image, character_image)\n",
    "print(f\"PSNR = {psnr}\")"
   ]
  },
  {
   "cell_type": "markdown",
   "metadata": {},
   "source": [
    "### Loading the Noisy Image"
   ]
  },
  {
   "cell_type": "code",
   "execution_count": null,
   "metadata": {},
   "outputs": [],
   "source": [
    "noisy_pcb_image = cv2.imread(\"./Noisy PCB 455x440.tif\", 0)\n",
    "plt.imshow(noisy_pcb_image, cmap = \"gray\")\n",
    "plt.title(\"The Noisy Image\")\n",
    "plt.show()"
   ]
  },
  {
   "cell_type": "markdown",
   "metadata": {},
   "source": [
    "### Applying Average Spatial Filter"
   ]
  },
  {
   "cell_type": "code",
   "execution_count": null,
   "metadata": {},
   "outputs": [],
   "source": [
    "mask_size = 5\n",
    "avg_noisy_pcb_image = average_filter(noisy_pcb_image, mask_size)\n",
    "plt.imshow(avg_noisy_pcb_image, cmap = \"gray\")\n",
    "plt.title(\"Average Filtered Image\")\n",
    "plt.show()"
   ]
  },
  {
   "cell_type": "markdown",
   "metadata": {},
   "source": [
    "### Applying Median Spatial Filter"
   ]
  },
  {
   "cell_type": "code",
   "execution_count": null,
   "metadata": {},
   "outputs": [],
   "source": [
    "mask_size = 5\n",
    "median_noisy_pcb_image = median_filter(noisy_pcb_image, mask_size)\n",
    "plt.imshow(median_noisy_pcb_image, cmap = \"gray\")\n",
    "plt.title(\"Median Filtered Image\")\n",
    "plt.show()"
   ]
  }
 ],
 "metadata": {
  "kernelspec": {
   "display_name": "Python 3",
   "language": "python",
   "name": "python3"
  },
  "language_info": {
   "codemirror_mode": {
    "name": "ipython",
    "version": 3
   },
   "file_extension": ".py",
   "mimetype": "text/x-python",
   "name": "python",
   "nbconvert_exporter": "python",
   "pygments_lexer": "ipython3",
   "version": "3.9.13"
  }
 },
 "nbformat": 4,
 "nbformat_minor": 2
}
