{
 "cells": [
  {
   "cell_type": "markdown",
   "metadata": {},
   "source": [
    "#### Task 3(b): Take grayscale image of size 512x512, use different size of mask (3x3, 5x5, 7x7) with average filter for noise suppression & observe their performance in term of PSNR"
   ]
  },
  {
   "cell_type": "markdown",
   "metadata": {},
   "source": [
    "### Importing the Libraries"
   ]
  },
  {
   "cell_type": "code",
   "execution_count": null,
   "metadata": {},
   "outputs": [],
   "source": [
    "import cv2\n",
    "import numpy as np\n",
    "import matplotlib.pyplot as plt"
   ]
  },
  {
   "cell_type": "markdown",
   "metadata": {},
   "source": [
    "### Function for Average Spatial Filter\n",
    "##### Function: output_image = cv2.blur(input_image, (kernel_size, kernel_size))"
   ]
  },
  {
   "cell_type": "code",
   "execution_count": null,
   "metadata": {},
   "outputs": [],
   "source": [
    "def average_filter(image, mask_size):\n",
    "    filtered_image = image.copy()\n",
    "    height, width = filtered_image.shape\n",
    "    offset, weight = mask_size // 2, mask_size * mask_size\n",
    "\n",
    "    for r in range(height):\n",
    "        for c in range(width):\n",
    "            filtered_image[r, c] = 0;\n",
    "            for x in range(-offset, offset + 1):\n",
    "                for y in range(-offset, offset + 1):\n",
    "                    if (r + x >= 0 and r + x < height and c + y >= 0 and c + y < width):\n",
    "                        filtered_image[r, c] += (image[r + x, c + y] / weight)\n",
    "    \n",
    "    return np.uint8(filtered_image)"
   ]
  },
  {
   "cell_type": "markdown",
   "metadata": {},
   "source": [
    "### Function for adding Salt & Pepper Noise"
   ]
  },
  {
   "cell_type": "code",
   "execution_count": null,
   "metadata": {},
   "outputs": [],
   "source": [
    "def add_salt_pepper_noise(image, percent):\n",
    "    noisy_image = image.copy()\n",
    "    noise_amount = (image.shape[0] * image.shape[1]) * (percent / 100)\n",
    "\n",
    "    for k in range(int(noise_amount)):\n",
    "        index = []\n",
    "        for x in range(1, 5):\n",
    "            index.append(np.random.randint(0, image.shape[0]))\n",
    "        noisy_image[index[0], index[1]], noisy_image[index[2], index[3]] = 0, 255\n",
    "\n",
    "    return noisy_image"
   ]
  },
  {
   "cell_type": "markdown",
   "metadata": {},
   "source": [
    "### Function for calculating PSNR (Peak Signal to Noise Ratio)\n",
    "##### Function: psnr = cv2.PSNR(image1, image2)"
   ]
  },
  {
   "cell_type": "code",
   "execution_count": null,
   "metadata": {},
   "outputs": [],
   "source": [
    "def compute_psnr(image1, image2):\n",
    "    image1, image2 = np.float64(image1), np.float64(image2)\n",
    "    mse = np.mean((image1 - image2) ** 2) \n",
    "    if mse == 0:\n",
    "        return float('inf')\n",
    "    psnr = 20 * np.log10(255.0) - 10 * np.log10(mse)\n",
    "    \n",
    "    return round(psnr, 2)"
   ]
  },
  {
   "cell_type": "markdown",
   "metadata": {},
   "source": [
    "### Adding Salt & Pepper Noise to the Image"
   ]
  },
  {
   "cell_type": "markdown",
   "metadata": {},
   "source": [
    "### Loading the Image"
   ]
  },
  {
   "cell_type": "code",
   "execution_count": null,
   "metadata": {},
   "outputs": [],
   "source": [
    "character_image = cv2.imread(\"./Characters Test Pattern 688x688.tif\", 0)\n",
    "plt.imshow(character_image, cmap = \"gray\")\n",
    "plt.title(\"Original Image\")\n",
    "plt.show()"
   ]
  },
  {
   "cell_type": "markdown",
   "metadata": {},
   "source": [
    "### Adding Salt & Pepper Noise to the Image"
   ]
  },
  {
   "cell_type": "code",
   "execution_count": null,
   "metadata": {},
   "outputs": [],
   "source": [
    "noisy_character_image = add_salt_pepper_noise(character_image, 15)\n",
    "plt.imshow(noisy_character_image, cmap = \"gray\")\n",
    "plt.title(\"The Noisy Image\")\n",
    "plt.show()\n",
    "psnr = compute_psnr(character_image, noisy_character_image)\n",
    "print(f\"PSNR = {psnr}\")"
   ]
  },
  {
   "cell_type": "markdown",
   "metadata": {},
   "source": [
    "### Applying average filter with (3x3, 5x5, 7x7) mask"
   ]
  },
  {
   "cell_type": "code",
   "execution_count": null,
   "metadata": {},
   "outputs": [],
   "source": [
    "for mask_size in range(3, 8, 2):\n",
    "    avg_character_image = average_filter(noisy_character_image, mask_size)\n",
    "    plt.imshow(cv2.cvtColor(avg_character_image, cv2.COLOR_BGR2RGB))\n",
    "    plt.title(f\"Noisy Image after applying Averaging Filter of mask size {mask_size}x{mask_size}\")\n",
    "    plt.show()\n",
    "    print(f\"PSNR = {compute_psnr(noisy_character_image, avg_character_image)}\")"
   ]
  }
 ],
 "metadata": {
  "kernelspec": {
   "display_name": "Python 3",
   "language": "python",
   "name": "python3"
  },
  "language_info": {
   "codemirror_mode": {
    "name": "ipython",
    "version": 3
   },
   "file_extension": ".py",
   "mimetype": "text/x-python",
   "name": "python",
   "nbconvert_exporter": "python",
   "pygments_lexer": "ipython3",
   "version": "3.9.13"
  }
 },
 "nbformat": 4,
 "nbformat_minor": 2
}
