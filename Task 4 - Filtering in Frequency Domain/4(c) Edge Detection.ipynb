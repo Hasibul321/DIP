{
 "cells": [
  {
   "cell_type": "markdown",
   "metadata": {},
   "source": [
    "#### Task 4(c): Take a grayscale image of size 512x512, perform edge detection of given the noise & clean image using Ideal & Gaussian High Pass Filters"
   ]
  },
  {
   "cell_type": "markdown",
   "metadata": {},
   "source": [
    "### Importing the Libraries"
   ]
  },
  {
   "cell_type": "code",
   "execution_count": null,
   "metadata": {},
   "outputs": [],
   "source": [
    "import cv2\n",
    "import numpy as np\n",
    "import matplotlib.pyplot as plt"
   ]
  },
  {
   "cell_type": "markdown",
   "metadata": {},
   "source": [
    "### Function for Ideal High Pass Filter"
   ]
  },
  {
   "cell_type": "code",
   "execution_count": null,
   "metadata": {},
   "outputs": [],
   "source": [
    "def apply_ideal_high_pass_filter(image, cutoff_frequency):\n",
    "    height, width = image.shape\n",
    "    ideal_filter = np.zeros((height, width))\n",
    "\n",
    "    for u in range(height):\n",
    "        for v in range(width):\n",
    "            D = np.sqrt((u - height / 2)**2 + (v - width / 2)**2)\n",
    "            if (D > cutoff_frequency):\n",
    "                ideal_filter[u, v] = 1\n",
    "\n",
    "    filtered_image = image * ideal_filter\n",
    "    filtered_image = np.fft.ifftshift(filtered_image)\n",
    "    filtered_image = np.fft.ifft2(filtered_image)\n",
    "    return np.abs(filtered_image)"
   ]
  },
  {
   "cell_type": "markdown",
   "metadata": {},
   "source": [
    "### Function for Gaussian High Pass Filter"
   ]
  },
  {
   "cell_type": "code",
   "execution_count": null,
   "metadata": {},
   "outputs": [],
   "source": [
    "def apply_gaussian_filter(image, cutoff_freq):\n",
    "    height, width = image.shape\n",
    "    gaussian_filter = np.zeros((height, width), dtype = np.float32)\n",
    "\n",
    "    for u in range(height):\n",
    "        for v in range(width):\n",
    "            D = np.sqrt((u - height / 2)**2 + (v - width / 2)**2)\n",
    "            gaussian_filter[u, v] = 1 - np.exp(-(D**2) / (2 * (cutoff_freq**2)))\n",
    "\n",
    "    filtered_image = image * gaussian_filter\n",
    "    filtered_image = np.fft.ifftshift(filtered_image)\n",
    "    filtered_image = np.fft.ifft2(filtered_image)\n",
    "    return np.abs(filtered_image)"
   ]
  },
  {
   "cell_type": "markdown",
   "metadata": {},
   "source": [
    "### Loading the Image"
   ]
  },
  {
   "cell_type": "code",
   "execution_count": null,
   "metadata": {},
   "outputs": [],
   "source": [
    "character_pattern_image = cv2.imread(\"./Images/Fig0445(a) Characters Test Pattern 688x688.tif\", 0)\n",
    "plt.imshow(cv2.cvtColor(character_pattern_image, cv2.COLOR_BGR2RGB))\n",
    "plt.title(\"The Character Test Pattern Image\")\n",
    "plt.show()"
   ]
  },
  {
   "cell_type": "markdown",
   "metadata": {},
   "source": [
    "### Applying FFT (Fast Fourier Transform)"
   ]
  },
  {
   "cell_type": "code",
   "execution_count": null,
   "metadata": {},
   "outputs": [],
   "source": [
    "character_pattern_image_fft = np.fft.fftshift(np.fft.fft2(character_pattern_image))\n",
    "plt.imshow(np.log(np.abs(character_pattern_image_fft)), cmap = \"gray\")\n",
    "plt.title(\"The FFT of the Image\")\n",
    "plt.show()"
   ]
  },
  {
   "cell_type": "markdown",
   "metadata": {},
   "source": [
    "### Applying Ideal High Pass Filter for Edge Detection"
   ]
  },
  {
   "cell_type": "code",
   "execution_count": null,
   "metadata": {},
   "outputs": [],
   "source": [
    "radius = 30\n",
    "plt.figure(figsize = (15, 10))\n",
    "\n",
    "for k in range(1, 7):\n",
    "    ideal_filtered_image = apply_ideal_high_pass_filter(character_pattern_image_fft, radius)\n",
    "    plt.subplot(2, 3, k)\n",
    "    plt.imshow(ideal_filtered_image, cmap = \"gray\")\n",
    "    plt.title(f\"Filtered Image with Filter Radius = {radius}\")\n",
    "    radius += 10\n",
    "\n",
    "plt.show()"
   ]
  },
  {
   "cell_type": "markdown",
   "metadata": {},
   "source": [
    "### Applying Gaussian High Pass Filter for Edge Detection"
   ]
  },
  {
   "cell_type": "code",
   "execution_count": null,
   "metadata": {},
   "outputs": [],
   "source": [
    "radius = 30\n",
    "plt.figure(figsize = (15, 10))\n",
    "\n",
    "for k in range(1, 7):\n",
    "    gaussian_filtered_image = apply_gaussian_filter(character_pattern_image_fft, radius)\n",
    "    plt.subplot(2, 3, k)\n",
    "    plt.imshow(gaussian_filtered_image, cmap = \"gray\")\n",
    "    plt.title(f\"Filtered Image with Filter Radius = {radius}\")\n",
    "    radius += 10\n",
    "\n",
    "plt.show()"
   ]
  }
 ],
 "metadata": {
  "kernelspec": {
   "display_name": "Python 3",
   "language": "python",
   "name": "python3"
  },
  "language_info": {
   "codemirror_mode": {
    "name": "ipython",
    "version": 3
   },
   "file_extension": ".py",
   "mimetype": "text/x-python",
   "name": "python",
   "nbconvert_exporter": "python",
   "pygments_lexer": "ipython3",
   "version": "3.9.13"
  }
 },
 "nbformat": 4,
 "nbformat_minor": 2
}
