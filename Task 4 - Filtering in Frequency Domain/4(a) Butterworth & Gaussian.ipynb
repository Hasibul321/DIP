{
 "cells": [
  {
   "cell_type": "markdown",
   "metadata": {},
   "source": [
    "#### Task 4(a): Take a grayscale image of size 512x512, add some Gaussian Noise & apply 4th order Butterworth & Gaussian Low Pass Filter to analyze their performance quantitatively"
   ]
  },
  {
   "cell_type": "markdown",
   "metadata": {},
   "source": [
    "### Importing the Libraries"
   ]
  },
  {
   "cell_type": "code",
   "execution_count": null,
   "metadata": {},
   "outputs": [],
   "source": [
    "import cv2\n",
    "import numpy as np\n",
    "import matplotlib.pyplot as plt"
   ]
  },
  {
   "cell_type": "markdown",
   "metadata": {},
   "source": [
    "### Function for Butterworth Low Pass Filter"
   ]
  },
  {
   "cell_type": "code",
   "execution_count": null,
   "metadata": {},
   "outputs": [],
   "source": [
    "def apply_butterworth_filter(image, order, cutoff_frequency):\n",
    "    height, width = image.shape\n",
    "    butterworth_filter = np.zeros((height, width), dtype = np.float32)\n",
    "\n",
    "    for u in range(height):\n",
    "        for v in range(width):\n",
    "            D = np.sqrt((u - height / 2)**2 + (v - width / 2)**2)\n",
    "            butterworth_filter[u, v] = 1 / (1 + (D / cutoff_frequency)**(2 * order))\n",
    "\n",
    "    filtered_image = image * butterworth_filter\n",
    "    filtered_image = np.fft.ifft2(np.fft.ifftshift(filtered_image))\n",
    "    return np.abs(filtered_image)"
   ]
  },
  {
   "cell_type": "markdown",
   "metadata": {},
   "source": [
    "### Function for Gaussian Low Pass Filter"
   ]
  },
  {
   "cell_type": "code",
   "execution_count": null,
   "metadata": {},
   "outputs": [],
   "source": [
    "def apply_gaussian_filter(image, cutoff_freq):\n",
    "    height, width = image.shape\n",
    "    gaussian_filter = np.zeros((height, width), dtype = np.float32)\n",
    "\n",
    "    for u in range(height):\n",
    "        for v in range(width):\n",
    "            D = np.sqrt((u - height / 2)**2 + (v - width / 2)**2)\n",
    "            gaussian_filter[u, v] = np.exp(-(D**2) / (2 * (cutoff_freq**2)))\n",
    "\n",
    "    filtered_image = image * gaussian_filter\n",
    "    filtered_image = np.fft.ifft2(np.fft.ifftshift(filtered_image))\n",
    "    return np.abs(filtered_image)"
   ]
  },
  {
   "cell_type": "markdown",
   "metadata": {},
   "source": [
    "### Loading the Image"
   ]
  },
  {
   "cell_type": "code",
   "execution_count": null,
   "metadata": {},
   "outputs": [],
   "source": [
    "character_pattern_image = cv2.imread(\"./Characters Test Pattern 688x688.tif\", 0)\n",
    "plt.imshow(cv2.cvtColor(character_pattern_image, cv2.COLOR_BGR2RGB))\n",
    "plt.title(\"The Original Image\")\n",
    "plt.show()"
   ]
  },
  {
   "cell_type": "markdown",
   "metadata": {},
   "source": [
    "### Adding Gaussian Noise"
   ]
  },
  {
   "cell_type": "code",
   "execution_count": null,
   "metadata": {},
   "outputs": [],
   "source": [
    "gaussian_noise = np.random.normal(7, 13, character_pattern_image.shape).astype(np.uint8)\n",
    "noisy_character_image = cv2.add(character_pattern_image, gaussian_noise)\n",
    "plt.imshow(cv2.cvtColor(noisy_character_image, cv2.COLOR_BGR2RGB))\n",
    "plt.title(\"Image with Gaussian Noise\")\n",
    "plt.show()"
   ]
  },
  {
   "cell_type": "markdown",
   "metadata": {},
   "source": [
    "### Applying FFT (Fast Fourier Transform)"
   ]
  },
  {
   "cell_type": "code",
   "execution_count": null,
   "metadata": {},
   "outputs": [],
   "source": [
    "noisy_image_fft = np.fft.fftshift(np.fft.fft2(noisy_character_image))\n",
    "plt.imshow(np.log(np.abs(noisy_image_fft)), cmap = \"gray\")\n",
    "plt.title(\"The FFT of the Noisy Image\")\n",
    "plt.show()"
   ]
  },
  {
   "cell_type": "markdown",
   "metadata": {},
   "source": [
    "### Applying Butterworth Filter"
   ]
  },
  {
   "cell_type": "code",
   "execution_count": null,
   "metadata": {},
   "outputs": [],
   "source": [
    "order, radius = 2, 25\n",
    "butterworth_filtered_image = apply_butterworth_filter(noisy_image_fft, order, radius)\n",
    "plt.imshow(butterworth_filtered_image, cmap = \"gray\")\n",
    "plt.title(\"The Noisy Image after applying Butterworth Filter\")\n",
    "plt.show()"
   ]
  },
  {
   "cell_type": "markdown",
   "metadata": {},
   "source": [
    "### Applying Gaussian Low Pass Filter"
   ]
  },
  {
   "cell_type": "code",
   "execution_count": null,
   "metadata": {},
   "outputs": [],
   "source": [
    "radius = 25\n",
    "gaussian_filtered_image = apply_gaussian_filter(noisy_image_fft, radius)\n",
    "plt.imshow(gaussian_filtered_image, cmap = \"gray\")\n",
    "plt.title(\"The Noisy Image after applying Gaussian Filter\")\n",
    "plt.show()"
   ]
  }
 ],
 "metadata": {
  "kernelspec": {
   "display_name": "Python 3",
   "language": "python",
   "name": "python3"
  },
  "language_info": {
   "codemirror_mode": {
    "name": "ipython",
    "version": 3
   },
   "file_extension": ".py",
   "mimetype": "text/x-python",
   "name": "python",
   "nbconvert_exporter": "python",
   "pygments_lexer": "ipython3",
   "version": "3.9.13"
  }
 },
 "nbformat": 4,
 "nbformat_minor": 2
}
