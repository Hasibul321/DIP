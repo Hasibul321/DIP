{
 "cells": [
  {
   "cell_type": "markdown",
   "metadata": {},
   "source": [
    "#### Task 4(b): Take a grayscale image of size 512x512, add some Gaussian Noise & observe the Ringing Effect of Ideal Low Pass Filter on the image. Use different radius of Ideal Low Pass Filter & display their results"
   ]
  },
  {
   "cell_type": "markdown",
   "metadata": {},
   "source": [
    "### Importing the Libraries"
   ]
  },
  {
   "cell_type": "code",
   "execution_count": null,
   "metadata": {},
   "outputs": [],
   "source": [
    "import cv2\n",
    "import numpy as np\n",
    "import matplotlib.pyplot as plt"
   ]
  },
  {
   "cell_type": "markdown",
   "metadata": {},
   "source": [
    "### Function for Ideal Low Pass Filter"
   ]
  },
  {
   "cell_type": "code",
   "execution_count": null,
   "metadata": {},
   "outputs": [],
   "source": [
    "def apply_ideal_low_pass_filter(image, cutoff_frequency):\n",
    "    height, width = image.shape\n",
    "    ideal_filter = np.zeros((height, width))\n",
    "\n",
    "    for u in range(height):\n",
    "        for v in range(width):\n",
    "            D = np.sqrt((u - height / 2)**2 + (v - width / 2)**2)\n",
    "            if (D <= cutoff_frequency):\n",
    "                ideal_filter[u, v] = 1\n",
    "\n",
    "    filtered_image = image * ideal_filter\n",
    "    filtered_image = np.fft.ifftshift(filtered_image)\n",
    "    filtered_image = np.fft.ifft2(filtered_image)\n",
    "    return np.abs(filtered_image)"
   ]
  },
  {
   "cell_type": "markdown",
   "metadata": {},
   "source": [
    "### Loading the Image"
   ]
  },
  {
   "cell_type": "code",
   "execution_count": null,
   "metadata": {},
   "outputs": [],
   "source": [
    "character_pattern_image = cv2.imread(\"./Characters Test Pattern 688x688.tif\", 0)\n",
    "plt.imshow(cv2.cvtColor(character_pattern_image, cv2.COLOR_BGR2RGB))\n",
    "plt.title(\"The Character Test Pattern Image\")\n",
    "plt.show()"
   ]
  },
  {
   "cell_type": "markdown",
   "metadata": {},
   "source": [
    "### Adding Gaussian Noise"
   ]
  },
  {
   "cell_type": "code",
   "execution_count": null,
   "metadata": {},
   "outputs": [],
   "source": [
    "gaussian_noise = np.random.normal(7, 13, character_pattern_image.shape).astype(np.uint8)\n",
    "noisy_character_image = cv2.add(character_pattern_image, gaussian_noise)\n",
    "plt.imshow(cv2.cvtColor(noisy_character_image, cv2.COLOR_BGR2RGB))\n",
    "plt.title(\"Image with Gaussian Noise\")\n",
    "plt.show()"
   ]
  },
  {
   "cell_type": "markdown",
   "metadata": {},
   "source": [
    "### Applying FFT (Fast Fourier Transform)"
   ]
  },
  {
   "cell_type": "code",
   "execution_count": null,
   "metadata": {},
   "outputs": [],
   "source": [
    "character_pattern_image_fft = np.fft.fftshift(np.fft.fft2(noisy_character_image))\n",
    "plt.imshow(np.log(np.abs(character_pattern_image_fft)), cmap = \"gray\")\n",
    "plt.title(\"The FFT of the Image\")\n",
    "plt.show()"
   ]
  },
  {
   "cell_type": "markdown",
   "metadata": {},
   "source": [
    "### Applying Ideal Low Pass Filters of various Radius or Cutoff Frequency"
   ]
  },
  {
   "cell_type": "code",
   "execution_count": null,
   "metadata": {},
   "outputs": [],
   "source": [
    "plt.figure(figsize = (15, 10))\n",
    "\n",
    "for r in range(1, 7):\n",
    "    filtered_image = apply_ideal_low_pass_filter(character_pattern_image_fft, r * 5)\n",
    "    plt.subplot(2, 3, r)\n",
    "    plt.imshow(filtered_image, cmap = \"gray\")\n",
    "    plt.title(f\"Filtered Image with Filter Radius = {r * 5}\")\n",
    "\n",
    "plt.show()"
   ]
  }
 ],
 "metadata": {
  "kernelspec": {
   "display_name": "Python 3",
   "language": "python",
   "name": "python3"
  },
  "language_info": {
   "codemirror_mode": {
    "name": "ipython",
    "version": 3
   },
   "file_extension": ".py",
   "mimetype": "text/x-python",
   "name": "python",
   "nbconvert_exporter": "python",
   "pygments_lexer": "ipython3",
   "version": "3.9.13"
  }
 },
 "nbformat": 4,
 "nbformat_minor": 2
}
