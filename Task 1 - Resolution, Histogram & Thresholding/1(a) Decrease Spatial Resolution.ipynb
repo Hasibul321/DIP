{
 "cells": [
  {
   "cell_type": "markdown",
   "metadata": {},
   "source": [
    "#### Task 1(a): Take a grayscale image of size 512x512, decrease its spatial resolution by half every time & observe it's change when displaying in the same window size"
   ]
  },
  {
   "cell_type": "markdown",
   "metadata": {},
   "source": [
    "### Importing the Libraries"
   ]
  },
  {
   "cell_type": "code",
   "execution_count": null,
   "metadata": {},
   "outputs": [],
   "source": [
    "import cv2\n",
    "import numpy as np\n",
    "import matplotlib.pyplot as plt"
   ]
  },
  {
   "cell_type": "markdown",
   "metadata": {},
   "source": [
    "### Function for Decreasing Spatial Resolution by Half"
   ]
  },
  {
   "cell_type": "code",
   "execution_count": null,
   "metadata": {},
   "outputs": [],
   "source": [
    "def decrease_resolution(image):\n",
    "    height, width = image.shape\n",
    "    decreased_image = np.zeros((height // 2, width // 2))\n",
    "\n",
    "    for r in range(0, height, 2):\n",
    "        for c in range(0, width, 2):\n",
    "            decreased_image[r // 2, c // 2] = image[r, c]\n",
    "        \n",
    "    return np.uint8(decreased_image)"
   ]
  },
  {
   "cell_type": "markdown",
   "metadata": {},
   "source": [
    "### Loading the Original Image"
   ]
  },
  {
   "cell_type": "code",
   "execution_count": null,
   "metadata": {},
   "outputs": [],
   "source": [
    "original_image = cv2.imread(\"./Rose 1024x1024.tif\", cv2.IMREAD_GRAYSCALE)\n",
    "original_image = cv2.resize(original_image, (512, 512))"
   ]
  },
  {
   "cell_type": "markdown",
   "metadata": {},
   "source": [
    "### Decreasing the Spatial Resolution by Half"
   ]
  },
  {
   "cell_type": "code",
   "execution_count": null,
   "metadata": {},
   "outputs": [],
   "source": [
    "decreased_image = original_image.copy()\n",
    "plt.figure(figsize = (13, 13))\n",
    "\n",
    "for k in range (1, 5):\n",
    "    plt.subplot(2, 2, k)\n",
    "    plt.imshow(decreased_image, cmap = 'gray')\n",
    "    height, width = decreased_image.shape\n",
    "    plt.title(f\"{height}x{width}\")\n",
    "    decreased_image = decrease_resolution(decreased_image)\n",
    "\n",
    "plt.show()"
   ]
  }
 ],
 "metadata": {
  "kernelspec": {
   "display_name": "Python 3",
   "language": "python",
   "name": "python3"
  },
  "language_info": {
   "codemirror_mode": {
    "name": "ipython",
    "version": 3
   },
   "file_extension": ".py",
   "mimetype": "text/x-python",
   "name": "python",
   "nbconvert_exporter": "python",
   "pygments_lexer": "ipython3",
   "version": "3.9.13"
  }
 },
 "nbformat": 4,
 "nbformat_minor": 2
}
