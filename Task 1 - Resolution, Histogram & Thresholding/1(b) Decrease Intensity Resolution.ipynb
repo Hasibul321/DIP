{
 "cells": [
  {
   "cell_type": "markdown",
   "metadata": {},
   "source": [
    "#### Task 1(b): Take a grayscale image of size 512x512, decrease its intensity level resolution by one bit up to reach its binary format & observe its change when displaying in the same window size"
   ]
  },
  {
   "cell_type": "markdown",
   "metadata": {},
   "source": [
    "### Importing the Libraries"
   ]
  },
  {
   "cell_type": "code",
   "execution_count": null,
   "metadata": {},
   "outputs": [],
   "source": [
    "import cv2\n",
    "import numpy as np\n",
    "import matplotlib.pyplot as plt"
   ]
  },
  {
   "cell_type": "markdown",
   "metadata": {},
   "source": [
    "### Function for Decreasing Intensity Level Resolution by 1-Bit"
   ]
  },
  {
   "cell_type": "code",
   "execution_count": null,
   "metadata": {},
   "outputs": [],
   "source": [
    "def decrease_resolution(image, number_of_bits):\n",
    "    step = 255 / (2**number_of_bits - 1)\n",
    "    height, width = image.shape\n",
    "    decreased_image = image.copy()\n",
    "\n",
    "    for r in range(height):\n",
    "        for c in range(width):\n",
    "            decreased_image[r, c] = round(image[r, c] / step) * step\n",
    "        \n",
    "    return decreased_image"
   ]
  },
  {
   "cell_type": "markdown",
   "metadata": {},
   "source": [
    "### Loading the Original Image"
   ]
  },
  {
   "cell_type": "code",
   "execution_count": null,
   "metadata": {},
   "outputs": [],
   "source": [
    "original_image = cv2.imread(\"./Skull 374x452.tif\", 0)"
   ]
  },
  {
   "cell_type": "markdown",
   "metadata": {},
   "source": [
    "### Decreasing Intensity Level Resolution by 1-Bit"
   ]
  },
  {
   "cell_type": "code",
   "execution_count": null,
   "metadata": {},
   "outputs": [],
   "source": [
    "decreased_image = original_image.copy()\n",
    "plt.figure(figsize = (13, 8))\n",
    "\n",
    "for k in range(1, 9):\n",
    "    plt.subplot(2, 4, k)\n",
    "    number_of_bits = 9 - k\n",
    "    decreased_image = decrease_resolution(decreased_image, number_of_bits)\n",
    "    plt.imshow(cv2.cvtColor(decreased_image, cv2.COLOR_BGR2RGB))\n",
    "    plt.title(f\"{number_of_bits}-Bits Image\")\n",
    "\n",
    "plt.show()"
   ]
  }
 ],
 "metadata": {
  "kernelspec": {
   "display_name": "Python 3",
   "language": "python",
   "name": "python3"
  },
  "language_info": {
   "codemirror_mode": {
    "name": "ipython",
    "version": 3
   },
   "file_extension": ".py",
   "mimetype": "text/x-python",
   "name": "python",
   "nbconvert_exporter": "python",
   "pygments_lexer": "ipython3",
   "version": "3.9.13"
  }
 },
 "nbformat": 4,
 "nbformat_minor": 2
}
